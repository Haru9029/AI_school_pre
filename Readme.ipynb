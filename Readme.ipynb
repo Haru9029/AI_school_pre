{
  "nbformat": 4,
  "nbformat_minor": 0,
  "metadata": {
    "colab": {
      "name": "Readme.ipynb",
      "provenance": [],
      "authorship_tag": "ABX9TyPZWGeKzHvlxFDMfP2226Zz",
      "include_colab_link": true
    },
    "kernelspec": {
      "name": "python3",
      "display_name": "Python 3"
    }
  },
  "cells": [
    {
      "cell_type": "markdown",
      "metadata": {
        "id": "view-in-github",
        "colab_type": "text"
      },
      "source": [
        "<a href=\"https://colab.research.google.com/github/Haru9029/AI_school/blob/master/Readme.ipynb\" target=\"_parent\"><img src=\"https://colab.research.google.com/assets/colab-badge.svg\" alt=\"Open In Colab\"/></a>"
      ]
    },
    {
      "cell_type": "markdown",
      "metadata": {
        "id": "EWl84RiwHxxx",
        "colab_type": "text"
      },
      "source": [
        "# **인공지능 사관학교 프리코스 과제 목차**\n",
        "----------------------"
      ]
    },
    {
      "cell_type": "markdown",
      "metadata": {
        "id": "lym22cVTH2yo",
        "colab_type": "text"
      },
      "source": [
        "### **1주차 과제(2020.05.21)**\n",
        "----------------------\n",
        "\n",
        "*   [인공지능 사례 분석](https://github.com/Haru9029/AI_school/blob/master/1%EC%A3%BC%EC%B0%A8.ipynb)"
      ]
    },
    {
      "cell_type": "markdown",
      "metadata": {
        "id": "HajPF4XkIwNX",
        "colab_type": "text"
      },
      "source": [
        "### **2주차 과제(2020.05.28)**\n",
        "----------------------\n",
        "\n",
        "*   [파이썬과 인공지능 기초수학](https://github.com/Haru9029/AI_school/blob/master/2%EC%A3%BC%EC%B0%A8%EA%B3%BC%EC%A0%9C.ipynb)"
      ]
    },
    {
      "cell_type": "markdown",
      "metadata": {
        "id": "W2EgxP6mI97x",
        "colab_type": "text"
      },
      "source": [
        "### **3주차 과제(2020.06.04)**\n",
        "----------------------\n",
        "\n",
        "*   [학습률 최적화, 군집 분석 구현, Cost Function 구현](https://github.com/Haru9029/AI_school/blob/master/3%EC%A3%BC%EC%B0%A8_%EA%B3%BC%EC%A0%9C.ipynb)"
      ]
    },
    {
      "cell_type": "markdown",
      "metadata": {
        "id": "AqPHHoKxJgSf",
        "colab_type": "text"
      },
      "source": [
        "### **4주차 과제(2020.06.11)**\n",
        "----------------------\n",
        "\n",
        "*   딥러닝 용어 정리, 클론 코딩, 딥러닝 순전파 & 역전파 계산"
      ]
    }
  ]
}