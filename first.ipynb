{
  "nbformat": 4,
  "nbformat_minor": 0,
  "metadata": {
    "colab": {
      "name": "first.ipynb",
      "provenance": [],
      "authorship_tag": "ABX9TyOGYE8TjTjJJVKGS/88Dhhp",
      "include_colab_link": true
    },
    "kernelspec": {
      "name": "python3",
      "display_name": "Python 3"
    }
  },
  "cells": [
    {
      "cell_type": "markdown",
      "metadata": {
        "id": "view-in-github",
        "colab_type": "text"
      },
      "source": [
        "<a href=\"https://colab.research.google.com/github/Haru9029/AI_school/blob/master/first.ipynb\" target=\"_parent\"><img src=\"https://colab.research.google.com/assets/colab-badge.svg\" alt=\"Open In Colab\"/></a>"
      ]
    },
    {
      "cell_type": "markdown",
      "metadata": {
        "id": "iWZmHBNwyp1v",
        "colab_type": "text"
      },
      "source": [
        "# 1주차 과제\n",
        "\n",
        "*인공지능은 현재 많은 제품과 서비스에 적용되어 있습니다. 특히 언어, 음성, 이미지, 자율주행의 분야에서 자주 찾아볼 수 있는데요.\n",
        "시중에 나와있는 다양한 제품들과 서비스 속 적용된 인공지능 기술들에 대해서 분석해 보고 여러분의 흥미를 끄는 기술들은 무엇이 있는지 찾아 보며 여러분 나름의 학습 목표를 세워보시기 바랍니다.*\n",
        "\n",
        "*앞서 제시해 드린 4가지 분야의 기술을 사용하는 4가지 제품 및 서비스를 찾아 깃헙 마크다운으로 작성하여 url과 여러분의 과제 목차 스크린 캡처를 제출해주세요.*"
      ]
    },
    {
      "cell_type": "markdown",
      "metadata": {
        "id": "NQgU4UZDJNNu",
        "colab_type": "text"
      },
      "source": [
        "----------------------\n",
        "# 본문"
      ]
    },
    {
      "cell_type": "markdown",
      "metadata": {
        "id": "AStfRoIIzqgL",
        "colab_type": "text"
      },
      "source": [
        "### 1. 언어 분야 - 시나리오 라이터 ([출처](http://economychosun.com/client/news/view.php?boardName=C24&t_num=13021))\n",
        "\n",
        "* '선스프링(Sunspring)' - 벤자민\n",
        "\n",
        "* '컴퓨터가 소설을 쓰는 날' - 마쓰바라 교수 연구팀\n",
        "\n",
        "* '모건(Morgan)' - 왓슨"
      ]
    },
    {
      "cell_type": "markdown",
      "metadata": {
        "id": "cZ2_rUcK4c7a",
        "colab_type": "text"
      },
      "source": [
        "### 2. 음성 분야 - 인공 비서\n",
        "\n",
        "* 알렉사 ([출처](https://newspeppermint.com/2018/02/04/amazonecho_alexa/))\n",
        "\n",
        "* 게이트 박스 ([출처](https://www.gatebox.ai/))\n",
        "\n",
        "* 시리 ([출처](https://www.apple.com/kr/siri/))\n",
        "\n",
        "* 빅스비 ([출처](https://www.samsung.com/sec/apps/bixby/))"
      ]
    },
    {
      "cell_type": "markdown",
      "metadata": {
        "id": "B2XPvbal9SF-",
        "colab_type": "text"
      },
      "source": [
        "### 3. 이미지 분야 ([출처](https://post.naver.com/viewer/postView.nhn?volumeNo=17875379&memberNo=39046504))\n",
        "\n",
        "* 보안검색대\n",
        "\n",
        "* 무인스토어\n",
        "\n",
        "* 스마트팩토리"
      ]
    },
    {
      "cell_type": "markdown",
      "metadata": {
        "id": "l-hBKQYp99iE",
        "colab_type": "text"
      },
      "source": [
        "### 4. 자율주행 분야\n",
        "\n",
        "* 자율주행 자동차 ([출처](http://www.hani.co.kr/arti/economy/car/923202.html))\n",
        "\n",
        "* 자율주행 비행기 ([출처](https://www.zdnet.co.kr/view/?no=20190124070106))"
      ]
    },
    {
      "cell_type": "markdown",
      "metadata": {
        "id": "1PClefnIDhVd",
        "colab_type": "text"
      },
      "source": [
        "--------------------\n",
        "# 끝내며"
      ]
    },
    {
      "cell_type": "markdown",
      "metadata": {
        "id": "3MOaF4rvJ4LI",
        "colab_type": "text"
      },
      "source": [
        "인공지능 비서, 스마트 홈과 같은 인간의 손발을 대신하려던 시도가 발전하여 이제는 사람과 감정을 소통하기 시작하고 있습니다. 다가올 인공지능의 시대에서 저의 목표는 인공지능에게 인간의 진정한 가능성을 부여하는 것입니다. 이번 교육기간 동안에도 이러한 부분에 기여할 수 있을만한 프로젝트를 진행하고자 합니다. 나아가 과제에서는 다루지 않았지만, 인간의 뇌를 컴퓨터로 업로드할 수 있다는 가능성을 제시한 마인드업로딩이나 BMI를 개발하고 있는 일론 머스크의 뉴럴링크와 같은 아직은 멀다고 생각하는 이야기를 현실로 만들어가고 싶습니다. 언젠가 가상과 현실이 하나가 되는 세상을 희망하며 글을 마칩니다."
      ]
    }
  ]
}